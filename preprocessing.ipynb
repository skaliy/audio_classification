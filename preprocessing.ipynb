{
 "cells": [
  {
   "cell_type": "markdown",
   "metadata": {},
   "source": [
    "# Preprocessing"
   ]
  },
  {
   "cell_type": "code",
   "execution_count": 140,
   "metadata": {},
   "outputs": [],
   "source": [
    "from pathlib import Path \n",
    "from fastai.vision import *\n",
    "import librosa \n",
    "import librosa.display"
   ]
  },
  {
   "cell_type": "code",
   "execution_count": 141,
   "metadata": {},
   "outputs": [],
   "source": [
    "path = %pwd\n",
    "path = Path(f'{path}/../../data/audio_pil_og_flue')"
   ]
  },
  {
   "cell_type": "code",
   "execution_count": 142,
   "metadata": {},
   "outputs": [],
   "source": [
    "#path.ls()"
   ]
  },
  {
   "cell_type": "code",
   "execution_count": 143,
   "metadata": {},
   "outputs": [],
   "source": [
    "audio_class = 'blink'"
   ]
  },
  {
   "cell_type": "code",
   "execution_count": 144,
   "metadata": {},
   "outputs": [],
   "source": [
    "audio_path = path/f'audio_files/{audio_class}/'\n",
    "save_path_melspectogram = path/'melspectogram/blink'\n",
    "save_path_waveform = path/'waveform/blink'\n",
    "#save_path_spectogram = path/'spectogram/blink'"
   ]
  },
  {
   "cell_type": "code",
   "execution_count": 145,
   "metadata": {},
   "outputs": [
    {
     "data": {
      "text/plain": [
       "PosixPath('/home/sathiesh/machine_learning/own_projects/audio_classification/../../data/audio_pil_og_flue/audio_files/blink/blink_27.wav')"
      ]
     },
     "execution_count": 145,
     "metadata": {},
     "output_type": "execute_result"
    }
   ],
   "source": [
    "audio_path.ls()[0]"
   ]
  },
  {
   "cell_type": "code",
   "execution_count": 120,
   "metadata": {},
   "outputs": [],
   "source": [
    "def get_filename(path):\n",
    "    return os.path.basename(path)"
   ]
  },
  {
   "cell_type": "markdown",
   "metadata": {},
   "source": [
    "## Melspectogram"
   ]
  },
  {
   "cell_type": "markdown",
   "metadata": {},
   "source": [
    "The following two methods are from the tutorial <i>Audio Classification using DeepLearning for Image Classification</i>: https://dzlab.github.io/jekyll/update/2018/11/13/audio-classification/"
   ]
  },
  {
   "cell_type": "code",
   "execution_count": 121,
   "metadata": {},
   "outputs": [],
   "source": [
    "def save_spectrogram(audio_fname, image_fname):\n",
    "    y, sr = librosa.load(audio_fname, sr=None)\n",
    "    S = librosa.feature.melspectrogram(y, sr=sr, n_mels=128)\n",
    "    log_S = librosa.power_to_db(S, ref=np.max)\n",
    "    librosa.display.specshow(log_S, sr=sr, x_axis='time', y_axis='mel')\n",
    "    fig1 = plt.gcf()\n",
    "    plt.axis('off')\n",
    "    plt.show()\n",
    "    plt.draw()\n",
    "    fig1.savefig(image_fname, dpi=100)"
   ]
  },
  {
   "cell_type": "code",
   "execution_count": 122,
   "metadata": {},
   "outputs": [],
   "source": [
    "def audio_to_spectrogram(audio_dir_path, image_dir_path=None):\n",
    "    for audio_path in audio_dir_path.ls():\n",
    "        audio_filename = get_filename(audio_path)\n",
    "        image_fname = audio_filename.split('.')[0] + '.png'\n",
    "        if image_dir_path:\n",
    "            image_fname = image_dir_path.as_posix() + '/' + image_fname\n",
    "        if Path(image_fname).exists(): continue\n",
    "        try:\n",
    "            save_spectrogram(audio_path.as_posix(), image_fname)\n",
    "        except ValueError as verr:\n",
    "            print('Failed to process %s %s' % (image_fname, verr))"
   ]
  },
  {
   "cell_type": "code",
   "execution_count": 123,
   "metadata": {},
   "outputs": [],
   "source": [
    "audio_to_spectrogram(audio_path, save_path_melspectogram)"
   ]
  },
  {
   "cell_type": "markdown",
   "metadata": {},
   "source": [
    "# Raw\n",
    "https://github.com/CVxTz/audio_classification/blob/master/LICENSE"
   ]
  },
  {
   "cell_type": "code",
   "execution_count": 124,
   "metadata": {},
   "outputs": [],
   "source": [
    "input_length = 16000*2\n",
    "\n",
    "def audio_norm(data):\n",
    "\n",
    "    max_data = np.max(data)\n",
    "    min_data = np.min(data)\n",
    "    data = (data-min_data)/(max_data-min_data+0.0001)\n",
    "    return data-0.5"
   ]
  },
  {
   "cell_type": "code",
   "execution_count": 125,
   "metadata": {},
   "outputs": [],
   "source": [
    "def load_audio_file(file_path, input_length=input_length):\n",
    "    data = librosa.core.load(file_path, sr=16000)[0] #, sr=16000\n",
    "    if len(data)>input_length:\n",
    "        \n",
    "        \n",
    "        max_offset = len(data)-input_length\n",
    "        \n",
    "        offset = np.random.randint(max_offset)\n",
    "        \n",
    "        data = data[offset:(input_length+offset)]\n",
    "        \n",
    "        \n",
    "    else:\n",
    "        \n",
    "        max_offset = input_length - len(data)\n",
    "        \n",
    "        offset = np.random.randint(max_offset)\n",
    "        \n",
    "        \n",
    "        data = np.pad(data, (offset, input_length - len(data) - offset), \"constant\")\n",
    "        \n",
    "        \n",
    "    data = audio_norm(data)\n",
    "    return data"
   ]
  },
  {
   "cell_type": "code",
   "execution_count": 180,
   "metadata": {},
   "outputs": [
    {
     "name": "stdout",
     "output_type": "stream",
     "text": [
      "/home/sathiesh/machine_learning/own_projects/audio_classification/../../data/audio_pil_og_flue/audio_files/blink\n",
      "/home/sathiesh/machine_learning/own_projects/audio_classification/../../data/audio_pil_og_flue/audio_files/kork\n",
      "/home/sathiesh/machine_learning/own_projects/audio_classification/../../data/audio_pil_og_flue/audio_files/skive\n"
     ]
    }
   ],
   "source": [
    "x = []\n",
    "y = []\n",
    "classes = ['blink','kork','skive']\n",
    "for c in classes: \n",
    "    audio_path = path/f'audio_files/{c}/'\n",
    "    print(audio_path)\n",
    "    \n",
    "    for file_path in audio_path.ls():\n",
    "        data = load_audio_file(file_path)\n",
    "        x.append(data)\n",
    "        y.append(c)"
   ]
  },
  {
   "cell_type": "code",
   "execution_count": 183,
   "metadata": {},
   "outputs": [
    {
     "data": {
      "text/plain": [
       "(90, 32000)"
      ]
     },
     "execution_count": 183,
     "metadata": {},
     "output_type": "execute_result"
    }
   ],
   "source": [
    "np.array(x).shape"
   ]
  },
  {
   "cell_type": "code",
   "execution_count": 127,
   "metadata": {},
   "outputs": [
    {
     "data": {
      "image/png": "[encoded data removed]",
      "text/plain": [
       "<Figure size 1008x576 with 1 Axes>"
      ]
     },
     "metadata": {
      "needs_background": "light"
     },
     "output_type": "display_data"
    }
   ],
   "source": [
    "#data_base = load_audio_file(audio_path.ls()[4])\n",
    "#fig = plt.figure(figsize=(14, 8))\n",
    "#plt.plot(np.linspace(0, 1, input_length), data_base)\n",
    "#plt.show()"
   ]
  },
  {
   "cell_type": "code",
   "execution_count": 91,
   "metadata": {},
   "outputs": [],
   "source": [
    "#data, sample_rate = librosa.load(audio_path.ls()[4], sr=None)\n",
    "#plt.figure(figsize=(12, 4))\n",
    "#librosa.display.waveplot(data, sr=sample_rate)"
   ]
  },
  {
   "cell_type": "code",
   "execution_count": null,
   "metadata": {},
   "outputs": [],
   "source": []
  }
 ],
 "metadata": {
  "kernelspec": {
   "display_name": "Python 3",
   "language": "python",
   "name": "python3"
  },
  "language_info": {
   "codemirror_mode": {
    "name": "ipython",
    "version": 3
   },
   "file_extension": ".py",
   "mimetype": "text/x-python",
   "name": "python",
   "nbconvert_exporter": "python",
   "pygments_lexer": "ipython3",
   "version": "3.7.3"
  }
 },
 "nbformat": 4,
 "nbformat_minor": 2
}
