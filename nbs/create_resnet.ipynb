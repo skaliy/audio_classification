{
 "cells": [
  {
   "cell_type": "markdown",
   "metadata": {},
   "source": [
    "# Create ResNet"
   ]
  },
  {
   "cell_type": "code",
   "execution_count": 1,
   "metadata": {},
   "outputs": [],
   "source": [
    "%reload_ext autoreload\n",
    "%autoreload 2\n",
    "%matplotlib inline"
   ]
  },
  {
   "cell_type": "code",
   "execution_count": 2,
   "metadata": {},
   "outputs": [],
   "source": [
    "from fastai.vision import * \n",
    "#import torch \n",
    "#from torch import nn \n",
    "#import torchvision"
   ]
  },
  {
   "cell_type": "code",
   "execution_count": 3,
   "metadata": {},
   "outputs": [],
   "source": [
    "bs = 16"
   ]
  },
  {
   "cell_type": "code",
   "execution_count": 4,
   "metadata": {},
   "outputs": [],
   "source": [
    "path = %pwd\n",
    "path = Path(f'{path}/../data/')"
   ]
  },
  {
   "cell_type": "code",
   "execution_count": 5,
   "metadata": {},
   "outputs": [],
   "source": [
    "data = ImageDataBunch.from_folder(path, train=\"train_melspecs\", valid='val_melspecs', ds_tfms=None, size=256, bs=bs)\n",
    "data.normalize(imagenet_stats); "
   ]
  },
  {
   "cell_type": "code",
   "execution_count": 6,
   "metadata": {},
   "outputs": [],
   "source": [
    "def conv(ni, nf):\n",
    "    return nn.Conv2d(ni,nf, kernel_size=3, stride=2, padding=1)"
   ]
  },
  {
   "cell_type": "code",
   "execution_count": 7,
   "metadata": {},
   "outputs": [],
   "source": [
    "model = nn.Sequential(\n",
    "conv(3,8), \n",
    "nn.BatchNorm2d(8), \n",
    "nn.ReLU(), \n",
    "conv(8,16), \n",
    "nn.BatchNorm2d(16),\n",
    "nn.ReLU(), \n",
    "conv(16,32),\n",
    "nn.BatchNorm2d(32),\n",
    "nn.ReLU(), \n",
    "conv(32,16),\n",
    "nn.BatchNorm2d(16), \n",
    "nn.ReLU(), \n",
    "conv(16,3),\n",
    "nn.BatchNorm2d(3), \n",
    "Flatten()\n",
    ")"
   ]
  },
  {
   "cell_type": "code",
   "execution_count": 8,
   "metadata": {},
   "outputs": [],
   "source": [
    "learn = Learner(data, model, loss_func=nn.CrossEntropyLoss(), metrics=accuracy)"
   ]
  },
  {
   "cell_type": "code",
   "execution_count": 9,
   "metadata": {},
   "outputs": [
    {
     "data": {
      "text/plain": [
       "Sequential\n",
       "======================================================================\n",
       "Layer (type)         Output Shape         Param #    Trainable \n",
       "======================================================================\n",
       "Conv2d               [8, 128, 128]        224        True      \n",
       "______________________________________________________________________\n",
       "BatchNorm2d          [8, 128, 128]        16         True      \n",
       "______________________________________________________________________\n",
       "ReLU                 [8, 128, 128]        0          False     \n",
       "______________________________________________________________________\n",
       "Conv2d               [16, 64, 64]         1,168      True      \n",
       "______________________________________________________________________\n",
       "BatchNorm2d          [16, 64, 64]         32         True      \n",
       "______________________________________________________________________\n",
       "ReLU                 [16, 64, 64]         0          False     \n",
       "______________________________________________________________________\n",
       "Conv2d               [32, 32, 32]         4,640      True      \n",
       "______________________________________________________________________\n",
       "BatchNorm2d          [32, 32, 32]         64         True      \n",
       "______________________________________________________________________\n",
       "ReLU                 [32, 32, 32]         0          False     \n",
       "______________________________________________________________________\n",
       "Conv2d               [16, 16, 16]         4,624      True      \n",
       "______________________________________________________________________\n",
       "BatchNorm2d          [16, 16, 16]         32         True      \n",
       "______________________________________________________________________\n",
       "ReLU                 [16, 16, 16]         0          False     \n",
       "______________________________________________________________________\n",
       "Conv2d               [3, 8, 8]            435        True      \n",
       "______________________________________________________________________\n",
       "BatchNorm2d          [3, 8, 8]            6          True      \n",
       "______________________________________________________________________\n",
       "Flatten              [192]                0          False     \n",
       "______________________________________________________________________\n",
       "\n",
       "Total params: 11,241\n",
       "Total trainable params: 11,241\n",
       "Total non-trainable params: 0\n",
       "Optimized with 'torch.optim.adam.Adam', betas=(0.9, 0.99)\n",
       "Using true weight decay as discussed in https://www.fast.ai/2018/07/02/adam-weight-decay/ \n",
       "Loss function : CrossEntropyLoss\n",
       "======================================================================\n",
       "Callbacks functions applied "
      ]
     },
     "execution_count": 9,
     "metadata": {},
     "output_type": "execute_result"
    }
   ],
   "source": [
    "learn.summary()"
   ]
  },
  {
   "cell_type": "code",
   "execution_count": 10,
   "metadata": {},
   "outputs": [],
   "source": [
    "#learn.lr_find()"
   ]
  },
  {
   "cell_type": "code",
   "execution_count": 11,
   "metadata": {},
   "outputs": [],
   "source": [
    "#learn.recorder.plot()"
   ]
  },
  {
   "cell_type": "code",
   "execution_count": 12,
   "metadata": {},
   "outputs": [],
   "source": [
    "#learn.fit_one_cycle(20, slice(1e-2))"
   ]
  },
  {
   "cell_type": "markdown",
   "metadata": {},
   "source": [
    "## Refaktorering"
   ]
  },
  {
   "cell_type": "code",
   "execution_count": 13,
   "metadata": {},
   "outputs": [],
   "source": [
    "def conv2(ni,nf): \n",
    "    return conv_layer(ni,nf,stride=2)"
   ]
  },
  {
   "cell_type": "code",
   "execution_count": 14,
   "metadata": {},
   "outputs": [
    {
     "data": {
      "text/plain": [
       "Sequential(\n",
       "  (0): Conv2d(3, 8, kernel_size=(3, 3), stride=(1, 1), padding=(1, 1), bias=False)\n",
       "  (1): ReLU(inplace)\n",
       "  (2): BatchNorm2d(8, eps=1e-05, momentum=0.1, affine=True, track_running_stats=True)\n",
       ")"
      ]
     },
     "execution_count": 14,
     "metadata": {},
     "output_type": "execute_result"
    }
   ],
   "source": [
    "conv_layer(3,8)"
   ]
  },
  {
   "cell_type": "code",
   "execution_count": 15,
   "metadata": {},
   "outputs": [],
   "source": [
    "model = nn.Sequential(conv2(3,8), \n",
    "                      conv2(8,16), \n",
    "                      conv2(16,32), \n",
    "                      conv2(32,16),\n",
    "                      conv2(16,3), \n",
    "                      Flatten()\n",
    ")"
   ]
  },
  {
   "cell_type": "code",
   "execution_count": 16,
   "metadata": {},
   "outputs": [],
   "source": [
    "learn = Learner(data, model, loss_func = nn.CrossEntropyLoss(), metrics=accuracy)"
   ]
  },
  {
   "cell_type": "code",
   "execution_count": 17,
   "metadata": {},
   "outputs": [],
   "source": [
    "#learn.fit_one_cycle(15, max_lr=1e-2)"
   ]
  },
  {
   "cell_type": "markdown",
   "metadata": {},
   "source": [
    "## ResNet block"
   ]
  },
  {
   "cell_type": "code",
   "execution_count": 71,
   "metadata": {},
   "outputs": [],
   "source": [
    "class ResBlock(nn.Module): \n",
    "    def __init__(self, nf):\n",
    "        super().__init__()\n",
    "        self.conv1 = conv_layer(nf,nf)\n",
    "        self.conv2 = conv_layer(nf,nf)\n",
    "    \n",
    "    def forward(self, x):\n",
    "        print(type(self.conv1))\n",
    "        print(x.shape)\n",
    "        return x + self.conv2(self.conv1(x))"
   ]
  },
  {
   "cell_type": "code",
   "execution_count": 72,
   "metadata": {},
   "outputs": [],
   "source": [
    "def conv_and_res(ni,nf): \n",
    "    return nn.Sequential(conv2(ni,nf), ResBlock(nf))"
   ]
  },
  {
   "cell_type": "code",
   "execution_count": 73,
   "metadata": {},
   "outputs": [],
   "source": [
    "model = nn.Sequential(\n",
    "    conv_and_res(3,8),\n",
    "    conv_and_res(8,16), \n",
    "    conv_and_res(16,32),\n",
    "    conv_and_res(32,16),\n",
    "    conv_and_res(16,3),\n",
    "    Flatten()\n",
    ")"
   ]
  },
  {
   "cell_type": "code",
   "execution_count": 74,
   "metadata": {},
   "outputs": [],
   "source": [
    "#learn = cnn_learner(data, model, metrics=accuracy)\n",
    "learn = Learner(data, model, loss_func = nn.CrossEntropyLoss(), metrics=accuracy)"
   ]
  },
  {
   "cell_type": "code",
   "execution_count": 75,
   "metadata": {},
   "outputs": [],
   "source": [
    "learn.unfreeze()"
   ]
  },
  {
   "cell_type": "code",
   "execution_count": 76,
   "metadata": {},
   "outputs": [
    {
     "name": "stdout",
     "output_type": "stream",
     "text": [
      "<class 'torch.nn.modules.container.Sequential'>\n",
      "torch.Size([1, 8, 128, 128])\n"
     ]
    },
    {
     "data": {
      "text/plain": [
       "Sequential\n",
       "======================================================================\n",
       "Layer (type)         Output Shape         Param #    Trainable \n",
       "======================================================================\n",
       "Conv2d               [8, 128, 128]        216        True      \n",
       "______________________________________________________________________\n",
       "ReLU                 [8, 128, 128]        0          False     \n",
       "______________________________________________________________________\n",
       "BatchNorm2d          [8, 128, 128]        16         True      \n",
       "______________________________________________________________________\n",
       "Conv2d               [8, 128, 128]        576        True      \n",
       "______________________________________________________________________\n",
       "ReLU                 [8, 128, 128]        0          False     \n",
       "______________________________________________________________________\n",
       "BatchNorm2d          [8, 128, 128]        16         True      \n",
       "______________________________________________________________________\n",
       "Conv2d               [8, 128, 128]        576        True      \n",
       "______________________________________________________________________\n",
       "ReLU                 [8, 128, 128]        0          False     \n",
       "______________________________________________________________________\n",
       "BatchNorm2d          [8, 128, 128]        16         True      \n",
       "______________________________________________________________________\n",
       "Flatten              [131072]             0          False     \n",
       "______________________________________________________________________\n",
       "\n",
       "Total params: 1,416\n",
       "Total trainable params: 1,416\n",
       "Total non-trainable params: 0\n",
       "Optimized with 'torch.optim.adam.Adam', betas=(0.9, 0.99)\n",
       "Using true weight decay as discussed in https://www.fast.ai/2018/07/02/adam-weight-decay/ \n",
       "Loss function : CrossEntropyLoss\n",
       "======================================================================\n",
       "Callbacks functions applied "
      ]
     },
     "execution_count": 76,
     "metadata": {},
     "output_type": "execute_result"
    }
   ],
   "source": [
    "learn.summary()"
   ]
  },
  {
   "cell_type": "code",
   "execution_count": 37,
   "metadata": {},
   "outputs": [],
   "source": [
    "learn = Learner(data, model, loss_func = nn.CrossEntropyLoss(), metrics=accuracy)"
   ]
  },
  {
   "cell_type": "code",
   "execution_count": 38,
   "metadata": {},
   "outputs": [
    {
     "data": {
      "text/plain": [
       "Sequential\n",
       "======================================================================\n",
       "Layer (type)         Output Shape         Param #    Trainable \n",
       "======================================================================\n",
       "Conv2d               [8, 64, 64]          216        True      \n",
       "______________________________________________________________________\n",
       "ReLU                 [8, 64, 64]          0          False     \n",
       "______________________________________________________________________\n",
       "BatchNorm2d          [8, 64, 64]          16         True      \n",
       "______________________________________________________________________\n",
       "Conv2d               [8, 64, 64]          576        True      \n",
       "______________________________________________________________________\n",
       "ReLU                 [8, 64, 64]          0          False     \n",
       "______________________________________________________________________\n",
       "BatchNorm2d          [8, 64, 64]          16         True      \n",
       "______________________________________________________________________\n",
       "Conv2d               [8, 64, 64]          576        True      \n",
       "______________________________________________________________________\n",
       "ReLU                 [8, 64, 64]          0          False     \n",
       "______________________________________________________________________\n",
       "BatchNorm2d          [8, 64, 64]          16         True      \n",
       "______________________________________________________________________\n",
       "Conv2d               [16, 32, 32]         1,152      True      \n",
       "______________________________________________________________________\n",
       "ReLU                 [16, 32, 32]         0          False     \n",
       "______________________________________________________________________\n",
       "BatchNorm2d          [16, 32, 32]         32         True      \n",
       "______________________________________________________________________\n",
       "Conv2d               [16, 32, 32]         2,304      True      \n",
       "______________________________________________________________________\n",
       "ReLU                 [16, 32, 32]         0          False     \n",
       "______________________________________________________________________\n",
       "BatchNorm2d          [16, 32, 32]         32         True      \n",
       "______________________________________________________________________\n",
       "Conv2d               [16, 32, 32]         2,304      True      \n",
       "______________________________________________________________________\n",
       "ReLU                 [16, 32, 32]         0          False     \n",
       "______________________________________________________________________\n",
       "BatchNorm2d          [16, 32, 32]         32         True      \n",
       "______________________________________________________________________\n",
       "Conv2d               [32, 16, 16]         4,608      True      \n",
       "______________________________________________________________________\n",
       "ReLU                 [32, 16, 16]         0          False     \n",
       "______________________________________________________________________\n",
       "BatchNorm2d          [32, 16, 16]         64         True      \n",
       "______________________________________________________________________\n",
       "Conv2d               [32, 16, 16]         9,216      True      \n",
       "______________________________________________________________________\n",
       "ReLU                 [32, 16, 16]         0          False     \n",
       "______________________________________________________________________\n",
       "BatchNorm2d          [32, 16, 16]         64         True      \n",
       "______________________________________________________________________\n",
       "Conv2d               [32, 16, 16]         9,216      True      \n",
       "______________________________________________________________________\n",
       "ReLU                 [32, 16, 16]         0          False     \n",
       "______________________________________________________________________\n",
       "BatchNorm2d          [32, 16, 16]         64         True      \n",
       "______________________________________________________________________\n",
       "Conv2d               [16, 8, 8]           4,608      True      \n",
       "______________________________________________________________________\n",
       "ReLU                 [16, 8, 8]           0          False     \n",
       "______________________________________________________________________\n",
       "BatchNorm2d          [16, 8, 8]           32         True      \n",
       "______________________________________________________________________\n",
       "Conv2d               [16, 8, 8]           2,304      True      \n",
       "______________________________________________________________________\n",
       "ReLU                 [16, 8, 8]           0          False     \n",
       "______________________________________________________________________\n",
       "BatchNorm2d          [16, 8, 8]           32         True      \n",
       "______________________________________________________________________\n",
       "Conv2d               [16, 8, 8]           2,304      True      \n",
       "______________________________________________________________________\n",
       "ReLU                 [16, 8, 8]           0          False     \n",
       "______________________________________________________________________\n",
       "BatchNorm2d          [16, 8, 8]           32         True      \n",
       "______________________________________________________________________\n",
       "Conv2d               [3, 4, 4]            432        True      \n",
       "______________________________________________________________________\n",
       "ReLU                 [3, 4, 4]            0          False     \n",
       "______________________________________________________________________\n",
       "BatchNorm2d          [3, 4, 4]            6          True      \n",
       "______________________________________________________________________\n",
       "Conv2d               [3, 4, 4]            81         True      \n",
       "______________________________________________________________________\n",
       "ReLU                 [3, 4, 4]            0          False     \n",
       "______________________________________________________________________\n",
       "BatchNorm2d          [3, 4, 4]            6          True      \n",
       "______________________________________________________________________\n",
       "Conv2d               [3, 4, 4]            81         True      \n",
       "______________________________________________________________________\n",
       "ReLU                 [3, 4, 4]            0          False     \n",
       "______________________________________________________________________\n",
       "BatchNorm2d          [3, 4, 4]            6          True      \n",
       "______________________________________________________________________\n",
       "Flatten              [48]                 0          False     \n",
       "______________________________________________________________________\n",
       "\n",
       "Total params: 40,428\n",
       "Total trainable params: 40,428\n",
       "Total non-trainable params: 0\n",
       "Optimized with 'torch.optim.adam.Adam', betas=(0.9, 0.99)\n",
       "Using true weight decay as discussed in https://www.fast.ai/2018/07/02/adam-weight-decay/ \n",
       "Loss function : CrossEntropyLoss\n",
       "======================================================================\n",
       "Callbacks functions applied "
      ]
     },
     "execution_count": 38,
     "metadata": {},
     "output_type": "execute_result"
    }
   ],
   "source": [
    "learn.summary()"
   ]
  },
  {
   "cell_type": "code",
   "execution_count": 25,
   "metadata": {},
   "outputs": [],
   "source": [
    "#learn.lr_find()\n",
    "#learn.recorder.plot()"
   ]
  },
  {
   "cell_type": "code",
   "execution_count": 27,
   "metadata": {},
   "outputs": [
    {
     "data": {
      "text/html": [
       "<table border=\"1\" class=\"dataframe\">\n",
       "  <thead>\n",
       "    <tr style=\"text-align: left;\">\n",
       "      <th>epoch</th>\n",
       "      <th>train_loss</th>\n",
       "      <th>valid_loss</th>\n",
       "      <th>accuracy</th>\n",
       "      <th>time</th>\n",
       "    </tr>\n",
       "  </thead>\n",
       "  <tbody>\n",
       "    <tr>\n",
       "      <td>0</td>\n",
       "      <td>4.678438</td>\n",
       "      <td>3.690741</td>\n",
       "      <td>0.000000</td>\n",
       "      <td>00:01</td>\n",
       "    </tr>\n",
       "  </tbody>\n",
       "</table>"
      ],
      "text/plain": [
       "<IPython.core.display.HTML object>"
      ]
     },
     "metadata": {},
     "output_type": "display_data"
    },
    {
     "name": "stdout",
     "output_type": "stream",
     "text": [
      "torch.Size([16, 8, 64, 64])\n",
      "torch.Size([16, 8, 64, 64])\n",
      "torch.Size([16, 8, 64, 64])\n",
      "neste\n",
      "torch.Size([16, 16, 32, 32])\n",
      "torch.Size([16, 16, 32, 32])\n",
      "torch.Size([16, 16, 32, 32])\n",
      "neste\n",
      "torch.Size([16, 32, 16, 16])\n",
      "torch.Size([16, 32, 16, 16])\n",
      "torch.Size([16, 32, 16, 16])\n",
      "neste\n",
      "torch.Size([16, 16, 8, 8])\n",
      "torch.Size([16, 16, 8, 8])\n",
      "torch.Size([16, 16, 8, 8])\n",
      "neste\n",
      "torch.Size([16, 3, 4, 4])\n",
      "torch.Size([16, 3, 4, 4])\n",
      "torch.Size([16, 3, 4, 4])\n",
      "neste\n",
      "torch.Size([16, 8, 64, 64])\n",
      "torch.Size([16, 8, 64, 64])\n",
      "torch.Size([16, 8, 64, 64])\n",
      "neste\n",
      "torch.Size([16, 16, 32, 32])\n",
      "torch.Size([16, 16, 32, 32])\n",
      "torch.Size([16, 16, 32, 32])\n",
      "neste\n",
      "torch.Size([16, 32, 16, 16])\n",
      "torch.Size([16, 32, 16, 16])\n",
      "torch.Size([16, 32, 16, 16])\n",
      "neste\n",
      "torch.Size([16, 16, 8, 8])\n",
      "torch.Size([16, 16, 8, 8])\n",
      "torch.Size([16, 16, 8, 8])\n",
      "neste\n",
      "torch.Size([16, 3, 4, 4])\n",
      "torch.Size([16, 3, 4, 4])\n",
      "torch.Size([16, 3, 4, 4])\n",
      "neste\n",
      "torch.Size([16, 8, 64, 64])\n",
      "torch.Size([16, 8, 64, 64])\n",
      "torch.Size([16, 8, 64, 64])\n",
      "neste\n",
      "torch.Size([16, 16, 32, 32])\n",
      "torch.Size([16, 16, 32, 32])\n",
      "torch.Size([16, 16, 32, 32])\n",
      "neste\n",
      "torch.Size([16, 32, 16, 16])\n",
      "torch.Size([16, 32, 16, 16])\n",
      "torch.Size([16, 32, 16, 16])\n",
      "neste\n",
      "torch.Size([16, 16, 8, 8])\n",
      "torch.Size([16, 16, 8, 8])\n",
      "torch.Size([16, 16, 8, 8])\n",
      "neste\n",
      "torch.Size([16, 3, 4, 4])\n",
      "torch.Size([16, 3, 4, 4])\n",
      "torch.Size([16, 3, 4, 4])\n",
      "neste\n",
      "torch.Size([16, 8, 64, 64])\n",
      "torch.Size([16, 8, 64, 64])\n",
      "torch.Size([16, 8, 64, 64])\n",
      "neste\n",
      "torch.Size([16, 16, 32, 32])\n",
      "torch.Size([16, 16, 32, 32])\n",
      "torch.Size([16, 16, 32, 32])\n",
      "neste\n",
      "torch.Size([16, 32, 16, 16])\n",
      "torch.Size([16, 32, 16, 16])\n",
      "torch.Size([16, 32, 16, 16])\n",
      "neste\n",
      "torch.Size([16, 16, 8, 8])\n",
      "torch.Size([16, 16, 8, 8])\n",
      "torch.Size([16, 16, 8, 8])\n",
      "neste\n",
      "torch.Size([16, 3, 4, 4])\n",
      "torch.Size([16, 3, 4, 4])\n",
      "torch.Size([16, 3, 4, 4])\n",
      "neste\n",
      "torch.Size([11, 8, 64, 64])\n",
      "torch.Size([11, 8, 64, 64])\n",
      "torch.Size([11, 8, 64, 64])\n",
      "neste\n",
      "torch.Size([11, 16, 32, 32])\n",
      "torch.Size([11, 16, 32, 32])\n",
      "torch.Size([11, 16, 32, 32])\n",
      "neste\n",
      "torch.Size([11, 32, 16, 16])\n",
      "torch.Size([11, 32, 16, 16])\n",
      "torch.Size([11, 32, 16, 16])\n",
      "neste\n",
      "torch.Size([11, 16, 8, 8])\n",
      "torch.Size([11, 16, 8, 8])\n",
      "torch.Size([11, 16, 8, 8])\n",
      "neste\n",
      "torch.Size([11, 3, 4, 4])\n",
      "torch.Size([11, 3, 4, 4])\n",
      "torch.Size([11, 3, 4, 4])\n",
      "neste\n"
     ]
    }
   ],
   "source": [
    "learn.fit_one_cycle(1, slice(1e-2))"
   ]
  }
 ],
 "metadata": {
  "kernelspec": {
   "display_name": "Python 3",
   "language": "python",
   "name": "python3"
  },
  "language_info": {
   "codemirror_mode": {
    "name": "ipython",
    "version": 3
   },
   "file_extension": ".py",
   "mimetype": "text/x-python",
   "name": "python",
   "nbconvert_exporter": "python",
   "pygments_lexer": "ipython3",
   "version": "3.7.3"
  }
 },
 "nbformat": 4,
 "nbformat_minor": 4
}
