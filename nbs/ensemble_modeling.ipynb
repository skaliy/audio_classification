{
 "cells": [
  {
   "cell_type": "markdown",
   "metadata": {},
   "source": [
    "# Ensemble modeling"
   ]
  },
  {
   "cell_type": "code",
   "execution_count": 1,
   "metadata": {},
   "outputs": [],
   "source": [
    "%reload_ext autoreload\n",
    "%autoreload 2\n",
    "%matplotlib inline"
   ]
  },
  {
   "cell_type": "code",
   "execution_count": 2,
   "metadata": {},
   "outputs": [],
   "source": [
    "from pathlib import Path \n",
    "from fastai.vision import *\n",
    "from fastai.tabular import *"
   ]
  },
  {
   "cell_type": "code",
   "execution_count": 3,
   "metadata": {},
   "outputs": [],
   "source": [
    "defaults.device = torch.device('cpu')"
   ]
  },
  {
   "cell_type": "code",
   "execution_count": 4,
   "metadata": {},
   "outputs": [],
   "source": [
    "path = %pwd\n",
    "path = Path(f'{path}/../')"
   ]
  },
  {
   "cell_type": "code",
   "execution_count": 12,
   "metadata": {},
   "outputs": [],
   "source": [
    "df = pd.read_csv(path/'csv/raw.csv')\n",
    "val_data = pd.read_csv(path/'csv/validation.csv')['filename']"
   ]
  },
  {
   "cell_type": "code",
   "execution_count": 13,
   "metadata": {},
   "outputs": [],
   "source": [
    "df = df[df['filename'].isin(val_data)]\n",
    "df = df.sort_values(by='filename')\n",
    "val_fns = df['filename']\n",
    "df_val = df.drop(['filename', 'classes'], axis=1)"
   ]
  },
  {
   "cell_type": "code",
   "execution_count": 15,
   "metadata": {},
   "outputs": [],
   "source": [
    "learn_wave = load_learner(path/'csv')"
   ]
  },
  {
   "cell_type": "code",
   "execution_count": 25,
   "metadata": {},
   "outputs": [],
   "source": [
    "wave_pred = []\n",
    "for idx, row in df.iterrows():\n",
    "    pred = learn_wave.predict(row)\n",
    "    wave_pred.append(pred) "
   ]
  },
  {
   "cell_type": "code",
   "execution_count": 17,
   "metadata": {},
   "outputs": [],
   "source": [
    "learn_melspecs = load_learner(path/'data')"
   ]
  },
  {
   "cell_type": "code",
   "execution_count": 20,
   "metadata": {},
   "outputs": [],
   "source": [
    "melspecs_pred = []\n",
    "for fn in val_fns:\n",
    "    c = fn.split('_')[0]\n",
    "    img_path = path/f'data/val_melspecs/{c}/{fn}.png'\n",
    "    img = open_image(img_path)\n",
    "    pred_class,pred_idx,outputs = learn_melspecs.predict(img)\n",
    "    melspecs_pred.append([pred_class,pred_idx,outputs])"
   ]
  },
  {
   "cell_type": "code",
   "execution_count": 21,
   "metadata": {},
   "outputs": [],
   "source": [
    "final_pred = []\n",
    "for idx in range(len(melspecs_pred)): \n",
    "    final_pred.append((melspecs_pred[idx][2] + wave_pred[idx][2])/2)"
   ]
  },
  {
   "cell_type": "code",
   "execution_count": 22,
   "metadata": {},
   "outputs": [
    {
     "data": {
      "text/plain": [
       "[tensor([0.7322, 0.0685, 0.1993]),\n",
       " tensor([0.7744, 0.0672, 0.1583]),\n",
       " tensor([0.7538, 0.0664, 0.1798]),\n",
       " tensor([0.7388, 0.0622, 0.1989]),\n",
       " tensor([0.1411, 0.4074, 0.4515]),\n",
       " tensor([0.6004, 0.1511, 0.2485]),\n",
       " tensor([0.5852, 0.3649, 0.0500]),\n",
       " tensor([0.5767, 0.3538, 0.0695]),\n",
       " tensor([0.5218, 0.3557, 0.1225]),\n",
       " tensor([0.0897, 0.8651, 0.0453]),\n",
       " tensor([0.0889, 0.8446, 0.0664]),\n",
       " tensor([0.0852, 0.8046, 0.1102]),\n",
       " tensor([0.1086, 0.8372, 0.0542]),\n",
       " tensor([0.0903, 0.8547, 0.0550]),\n",
       " tensor([0.0995, 0.7888, 0.1116]),\n",
       " tensor([0.1187, 0.7396, 0.1417]),\n",
       " tensor([0.0960, 0.8428, 0.0611]),\n",
       " tensor([0.0870, 0.8558, 0.0572]),\n",
       " tensor([0.0614, 0.3943, 0.5443]),\n",
       " tensor([0.5786, 0.1221, 0.2993]),\n",
       " tensor([0.2817, 0.0485, 0.6698]),\n",
       " tensor([0.5924, 0.3542, 0.0534]),\n",
       " tensor([0.2535, 0.0219, 0.7245]),\n",
       " tensor([0.4774, 0.0488, 0.4737]),\n",
       " tensor([0.1484, 0.1090, 0.7426]),\n",
       " tensor([0.5875, 0.1807, 0.2318]),\n",
       " tensor([0.5758, 0.2677, 0.1565])]"
      ]
     },
     "execution_count": 22,
     "metadata": {},
     "output_type": "execute_result"
    }
   ],
   "source": [
    "final_pred"
   ]
  },
  {
   "cell_type": "code",
   "execution_count": null,
   "metadata": {},
   "outputs": [],
   "source": []
  }
 ],
 "metadata": {
  "kernelspec": {
   "display_name": "Python 3",
   "language": "python",
   "name": "python3"
  },
  "language_info": {
   "codemirror_mode": {
    "name": "ipython",
    "version": 3
   },
   "file_extension": ".py",
   "mimetype": "text/x-python",
   "name": "python",
   "nbconvert_exporter": "python",
   "pygments_lexer": "ipython3",
   "version": "3.7.3"
  }
 },
 "nbformat": 4,
 "nbformat_minor": 2
}
