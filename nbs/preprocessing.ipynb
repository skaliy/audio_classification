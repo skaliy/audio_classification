{
 "cells": [
  {
   "cell_type": "markdown",
   "metadata": {},
   "source": [
    "# Preprocessing"
   ]
  },
  {
   "cell_type": "code",
   "execution_count": 1,
   "metadata": {},
   "outputs": [],
   "source": [
    "from pathlib import Path \n",
    "import librosa \n",
    "import librosa.display\n",
    "import os\n",
    "import numpy as np\n",
    "import matplotlib.pyplot as plt\n",
    "import pandas as pd "
   ]
  },
  {
   "cell_type": "code",
   "execution_count": 2,
   "metadata": {},
   "outputs": [],
   "source": [
    "path = %pwd\n",
    "path = Path(f'{path}/../data/lydfiler')"
   ]
  },
  {
   "cell_type": "code",
   "execution_count": 3,
   "metadata": {},
   "outputs": [],
   "source": [
    "classes = ['blink','kork','skive']"
   ]
  },
  {
   "cell_type": "code",
   "execution_count": 4,
   "metadata": {},
   "outputs": [],
   "source": [
    "def get_filename(path):\n",
    "    return os.path.basename(path)"
   ]
  },
  {
   "cell_type": "markdown",
   "metadata": {},
   "source": [
    "## Melspectogram"
   ]
  },
  {
   "cell_type": "markdown",
   "metadata": {},
   "source": [
    "The following two methods are from the tutorial <i>Audio Classification using DeepLearning for Image Classification</i>: https://dzlab.github.io/jekyll/update/2018/11/13/audio-classification/"
   ]
  },
  {
   "cell_type": "code",
   "execution_count": 5,
   "metadata": {},
   "outputs": [],
   "source": [
    "def save_spectrogram(audio_fname, image_fname):\n",
    "    y, sr = librosa.load(audio_fname, sr=None)\n",
    "    S = librosa.feature.melspectrogram(y, sr=sr, n_mels=128)\n",
    "    log_S = librosa.power_to_db(S, ref=np.max)\n",
    "    librosa.display.specshow(log_S, sr=sr, x_axis='time', y_axis='mel')\n",
    "    fig1 = plt.gcf()\n",
    "    plt.axis('off')\n",
    "    plt.show()\n",
    "    plt.draw()\n",
    "    fig1.savefig(image_fname, dpi=100)"
   ]
  },
  {
   "cell_type": "code",
   "execution_count": 6,
   "metadata": {},
   "outputs": [],
   "source": [
    "def audio_to_spectrogram(audio_dir_path, image_dir_path=None):\n",
    "    for audio_path in audio_dir_path.iterdir():\n",
    "        audio_filename = get_filename(audio_path)\n",
    "        image_fname = audio_filename.split('.')[0] + '.png'\n",
    "        if not image_dir_path.exists():\n",
    "            os.mkdir(image_dir_path)\n",
    "        \n",
    "        image_fname = image_dir_path.as_posix() + '/' + image_fname\n",
    "        if Path(image_fname).exists(): continue\n",
    "        try:\n",
    "            save_spectrogram(audio_path.as_posix(), image_fname)\n",
    "        except ValueError as verr:\n",
    "            print('Failed to process %s %s' % (image_fname, verr))"
   ]
  },
  {
   "cell_type": "code",
   "execution_count": 7,
   "metadata": {},
   "outputs": [],
   "source": [
    "train_path_melspectogram  = path/'../train_melspecs'\n",
    "if not train_path_melspectogram.exists(): \n",
    "    os.mkdir(train_path_melspectogram)"
   ]
  },
  {
   "cell_type": "code",
   "execution_count": 8,
   "metadata": {},
   "outputs": [],
   "source": [
    "for c in classes: \n",
    "    audio_path = path/f'{c}/'\n",
    "    save_path_melspectogram = path/f'../train_melspecs/{c}'\n",
    "    audio_to_spectrogram(audio_path, save_path_melspectogram)"
   ]
  },
  {
   "cell_type": "markdown",
   "metadata": {},
   "source": [
    "# Raw\n",
    "https://github.com/CVxTz/audio_classification/blob/master/LICENSE"
   ]
  },
  {
   "cell_type": "code",
   "execution_count": 9,
   "metadata": {},
   "outputs": [],
   "source": [
    "input_length = 16000*2\n",
    "\n",
    "def audio_norm(data):\n",
    "    max_data = np.max(data)\n",
    "    min_data = np.min(data)\n",
    "    data = (data-min_data)/(max_data-min_data+0.0001)\n",
    "    return data-0.5"
   ]
  },
  {
   "cell_type": "code",
   "execution_count": 10,
   "metadata": {},
   "outputs": [],
   "source": [
    "def load_audio_file(file_path, input_length=input_length):\n",
    "    data = librosa.core.load(file_path, sr=16000)[0] #, sr=16000\n",
    "    if len(data)>input_length:    \n",
    "        max_offset = len(data)-input_length\n",
    "        offset = np.random.randint(max_offset)\n",
    "        data = data[offset:(input_length+offset)]\n",
    "    else:\n",
    "        max_offset = input_length - len(data)\n",
    "        offset = np.random.randint(max_offset)\n",
    "        data = np.pad(data, (offset, input_length - len(data) - offset), \"constant\")     \n",
    "    data = audio_norm(data)\n",
    "    return data"
   ]
  },
  {
   "cell_type": "markdown",
   "metadata": {},
   "source": [
    "### Create csv file"
   ]
  },
  {
   "cell_type": "code",
   "execution_count": 11,
   "metadata": {},
   "outputs": [],
   "source": [
    "x,y,filename = [],[],[]\n",
    "\n",
    "for c in classes: \n",
    "    audio_path = path/f'{c}/'    \n",
    "    for file_path in audio_path.iterdir():\n",
    "        data = load_audio_file(file_path)\n",
    "        x.append(data)\n",
    "        y.append(c)\n",
    "        filename.append(get_filename(file_path).split('.')[0])"
   ]
  },
  {
   "cell_type": "code",
   "execution_count": 12,
   "metadata": {},
   "outputs": [
    {
     "data": {
      "text/html": [
       "<div>\n",
       "<style scoped>\n",
       "    .dataframe tbody tr th:only-of-type {\n",
       "        vertical-align: middle;\n",
       "    }\n",
       "\n",
       "    .dataframe tbody tr th {\n",
       "        vertical-align: top;\n",
       "    }\n",
       "\n",
       "    .dataframe thead th {\n",
       "        text-align: right;\n",
       "    }\n",
       "</style>\n",
       "<table border=\"1\" class=\"dataframe\">\n",
       "  <thead>\n",
       "    <tr style=\"text-align: right;\">\n",
       "      <th></th>\n",
       "      <th>0</th>\n",
       "      <th>1</th>\n",
       "      <th>2</th>\n",
       "      <th>3</th>\n",
       "      <th>4</th>\n",
       "      <th>5</th>\n",
       "      <th>6</th>\n",
       "      <th>7</th>\n",
       "      <th>8</th>\n",
       "      <th>9</th>\n",
       "      <th>...</th>\n",
       "      <th>31992</th>\n",
       "      <th>31993</th>\n",
       "      <th>31994</th>\n",
       "      <th>31995</th>\n",
       "      <th>31996</th>\n",
       "      <th>31997</th>\n",
       "      <th>31998</th>\n",
       "      <th>31999</th>\n",
       "      <th>filename</th>\n",
       "      <th>classes</th>\n",
       "    </tr>\n",
       "  </thead>\n",
       "  <tbody>\n",
       "    <tr>\n",
       "      <th>0</th>\n",
       "      <td>-0.001923</td>\n",
       "      <td>-0.001488</td>\n",
       "      <td>-0.001092</td>\n",
       "      <td>0.000636</td>\n",
       "      <td>-0.000439</td>\n",
       "      <td>0.002301</td>\n",
       "      <td>0.000686</td>\n",
       "      <td>0.000867</td>\n",
       "      <td>0.006124</td>\n",
       "      <td>0.008916</td>\n",
       "      <td>...</td>\n",
       "      <td>-0.002832</td>\n",
       "      <td>-0.003827</td>\n",
       "      <td>0.002071</td>\n",
       "      <td>0.001415</td>\n",
       "      <td>-0.001815</td>\n",
       "      <td>-0.003134</td>\n",
       "      <td>-0.003944</td>\n",
       "      <td>-0.004587</td>\n",
       "      <td>blink_29</td>\n",
       "      <td>blink</td>\n",
       "    </tr>\n",
       "    <tr>\n",
       "      <th>1</th>\n",
       "      <td>0.061929</td>\n",
       "      <td>0.061929</td>\n",
       "      <td>0.061929</td>\n",
       "      <td>0.061929</td>\n",
       "      <td>0.061929</td>\n",
       "      <td>0.061929</td>\n",
       "      <td>0.061929</td>\n",
       "      <td>0.061929</td>\n",
       "      <td>0.061929</td>\n",
       "      <td>0.061929</td>\n",
       "      <td>...</td>\n",
       "      <td>0.061929</td>\n",
       "      <td>0.061929</td>\n",
       "      <td>0.061929</td>\n",
       "      <td>0.061929</td>\n",
       "      <td>0.061929</td>\n",
       "      <td>0.061929</td>\n",
       "      <td>0.061929</td>\n",
       "      <td>0.061929</td>\n",
       "      <td>blink_7</td>\n",
       "      <td>blink</td>\n",
       "    </tr>\n",
       "    <tr>\n",
       "      <th>2</th>\n",
       "      <td>0.016476</td>\n",
       "      <td>0.006415</td>\n",
       "      <td>0.010163</td>\n",
       "      <td>0.013385</td>\n",
       "      <td>0.012466</td>\n",
       "      <td>0.016891</td>\n",
       "      <td>0.017876</td>\n",
       "      <td>0.011519</td>\n",
       "      <td>0.017348</td>\n",
       "      <td>0.013792</td>\n",
       "      <td>...</td>\n",
       "      <td>-0.003748</td>\n",
       "      <td>0.002971</td>\n",
       "      <td>-0.003928</td>\n",
       "      <td>-0.005492</td>\n",
       "      <td>-0.001918</td>\n",
       "      <td>-0.001472</td>\n",
       "      <td>0.008276</td>\n",
       "      <td>-0.004121</td>\n",
       "      <td>blink_8</td>\n",
       "      <td>blink</td>\n",
       "    </tr>\n",
       "    <tr>\n",
       "      <th>3</th>\n",
       "      <td>0.024835</td>\n",
       "      <td>0.024835</td>\n",
       "      <td>0.024835</td>\n",
       "      <td>0.024835</td>\n",
       "      <td>0.024835</td>\n",
       "      <td>0.024835</td>\n",
       "      <td>0.024835</td>\n",
       "      <td>0.024835</td>\n",
       "      <td>0.024835</td>\n",
       "      <td>0.024835</td>\n",
       "      <td>...</td>\n",
       "      <td>0.024835</td>\n",
       "      <td>0.024835</td>\n",
       "      <td>0.024835</td>\n",
       "      <td>0.024835</td>\n",
       "      <td>0.024835</td>\n",
       "      <td>0.024835</td>\n",
       "      <td>0.024835</td>\n",
       "      <td>0.024835</td>\n",
       "      <td>blink_28</td>\n",
       "      <td>blink</td>\n",
       "    </tr>\n",
       "    <tr>\n",
       "      <th>4</th>\n",
       "      <td>-0.022613</td>\n",
       "      <td>-0.022613</td>\n",
       "      <td>-0.022613</td>\n",
       "      <td>-0.022613</td>\n",
       "      <td>-0.022613</td>\n",
       "      <td>-0.022613</td>\n",
       "      <td>-0.022613</td>\n",
       "      <td>-0.022613</td>\n",
       "      <td>-0.022613</td>\n",
       "      <td>-0.022613</td>\n",
       "      <td>...</td>\n",
       "      <td>-0.022613</td>\n",
       "      <td>-0.022613</td>\n",
       "      <td>-0.022613</td>\n",
       "      <td>-0.022613</td>\n",
       "      <td>-0.022613</td>\n",
       "      <td>-0.022613</td>\n",
       "      <td>-0.022613</td>\n",
       "      <td>-0.022613</td>\n",
       "      <td>blink_11</td>\n",
       "      <td>blink</td>\n",
       "    </tr>\n",
       "  </tbody>\n",
       "</table>\n",
       "<p>5 rows × 32002 columns</p>\n",
       "</div>"
      ],
      "text/plain": [
       "          0         1         2         3         4         5         6  \\\n",
       "0 -0.001923 -0.001488 -0.001092  0.000636 -0.000439  0.002301  0.000686   \n",
       "1  0.061929  0.061929  0.061929  0.061929  0.061929  0.061929  0.061929   \n",
       "2  0.016476  0.006415  0.010163  0.013385  0.012466  0.016891  0.017876   \n",
       "3  0.024835  0.024835  0.024835  0.024835  0.024835  0.024835  0.024835   \n",
       "4 -0.022613 -0.022613 -0.022613 -0.022613 -0.022613 -0.022613 -0.022613   \n",
       "\n",
       "          7         8         9  ...     31992     31993     31994     31995  \\\n",
       "0  0.000867  0.006124  0.008916  ... -0.002832 -0.003827  0.002071  0.001415   \n",
       "1  0.061929  0.061929  0.061929  ...  0.061929  0.061929  0.061929  0.061929   \n",
       "2  0.011519  0.017348  0.013792  ... -0.003748  0.002971 -0.003928 -0.005492   \n",
       "3  0.024835  0.024835  0.024835  ...  0.024835  0.024835  0.024835  0.024835   \n",
       "4 -0.022613 -0.022613 -0.022613  ... -0.022613 -0.022613 -0.022613 -0.022613   \n",
       "\n",
       "      31996     31997     31998     31999  filename  classes  \n",
       "0 -0.001815 -0.003134 -0.003944 -0.004587  blink_29    blink  \n",
       "1  0.061929  0.061929  0.061929  0.061929   blink_7    blink  \n",
       "2 -0.001918 -0.001472  0.008276 -0.004121   blink_8    blink  \n",
       "3  0.024835  0.024835  0.024835  0.024835  blink_28    blink  \n",
       "4 -0.022613 -0.022613 -0.022613 -0.022613  blink_11    blink  \n",
       "\n",
       "[5 rows x 32002 columns]"
      ]
     },
     "execution_count": 12,
     "metadata": {},
     "output_type": "execute_result"
    }
   ],
   "source": [
    "df = pd.DataFrame(x)\n",
    "df['filename'], df['classes'] = filename, y\n",
    "df.head()"
   ]
  },
  {
   "cell_type": "code",
   "execution_count": 17,
   "metadata": {},
   "outputs": [],
   "source": [
    "save_path = Path(f'{path}/../../csv')"
   ]
  },
  {
   "cell_type": "code",
   "execution_count": 18,
   "metadata": {},
   "outputs": [],
   "source": [
    "df.to_csv(save_path/'raw.csv', index = None, header=True)"
   ]
  },
  {
   "cell_type": "code",
   "execution_count": 19,
   "metadata": {},
   "outputs": [],
   "source": [
    "#data_base = load_audio_file(audio_path.ls()[4])\n",
    "#fig = plt.figure(figsize=(14, 8))\n",
    "#plt.plotqwq(np.linspace(0, 1, input_length), data_base)\n",
    "#plt.show()"
   ]
  },
  {
   "cell_type": "code",
   "execution_count": 20,
   "metadata": {},
   "outputs": [],
   "source": [
    "#data, sample_rate = librosa.load(audio_path.ls()[4], sr=None)\n",
    "#plt.figure(figsize=(12, 4))\n",
    "#librosa.display.waveplot(data, sr=sample_rate)"
   ]
  },
  {
   "cell_type": "markdown",
   "metadata": {},
   "source": [
    "### Random selection of validation data "
   ]
  },
  {
   "cell_type": "code",
   "execution_count": 21,
   "metadata": {},
   "outputs": [],
   "source": [
    "import random\n",
    "blink, kork, skive = random.sample(range(0, 29), 9), random.sample(range(30, 59), 9), random.sample(range(60, 89), 9)\n",
    "idx = blink + kork + skive"
   ]
  },
  {
   "cell_type": "code",
   "execution_count": 22,
   "metadata": {},
   "outputs": [],
   "source": [
    "df_valid = df['filename'].iloc[idx] "
   ]
  },
  {
   "cell_type": "code",
   "execution_count": 23,
   "metadata": {},
   "outputs": [],
   "source": [
    "df_valid.to_csv(save_path/'validation.csv', index = None, header=True)"
   ]
  }
 ],
 "metadata": {
  "kernelspec": {
   "display_name": "Python 3",
   "language": "python",
   "name": "python3"
  },
  "language_info": {
   "codemirror_mode": {
    "name": "ipython",
    "version": 3
   },
   "file_extension": ".py",
   "mimetype": "text/x-python",
   "name": "python",
   "nbconvert_exporter": "python",
   "pygments_lexer": "ipython3",
   "version": "3.7.3"
  }
 },
 "nbformat": 4,
 "nbformat_minor": 2
}
